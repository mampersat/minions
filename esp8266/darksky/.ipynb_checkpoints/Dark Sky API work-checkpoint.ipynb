{
 "metadata": {
  "name": "",
  "signature": "sha256:8d3e3bdc887e11a7433ed32154e08692803c6ef3a0142c208f4670777284faed"
 },
 "nbformat": 3,
 "nbformat_minor": 0,
 "worksheets": []
}