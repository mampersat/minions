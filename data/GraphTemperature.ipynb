{
 "cells": [
  {
   "cell_type": "code",
   "execution_count": 63,
   "metadata": {
    "collapsed": false,
    "scrolled": true
   },
   "outputs": [
    {
     "data": {
      "image/png": "[encoded data removed]",
      "text/plain": [
       "<matplotlib.figure.Figure at 0x7faf32b61810>"
      ]
     },
     "metadata": {},
     "output_type": "display_data"
    }
   ],
   "source": [
    "import matplotlib.pyplot as plt\n",
    "import pandas\n",
    "import MySQLdb\n",
    "%matplotlib inline\n",
    "\n",
    "conn = MySQLdb.connect(host=\"localhost\", user=\"root\", passwd=\"root\", db=\"minion\")\n",
    "\n",
    "query = \"\"\" \n",
    "SELECT ts, t FROM report WHERE ts >= now() - INTERVAL 1 DAY;\n",
    "\"\"\"\n",
    "\n",
    "df = pandas.read_sql(query, conn, index_col=['ts'])\n",
    "fig, ax = plt.subplots()\n",
    "df.plot(ax=ax)\n",
    "fig.show()\n",
    "conn.close()\n"
   ]
  },
  {
   "cell_type": "code",
   "execution_count": 64,
   "metadata": {
    "collapsed": false
   },
   "outputs": [
    {
     "data": {
      "text/plain": [
       "{'temp': 19.42, 'temp_kf': None, 'temp_max': 23.0, 'temp_min': 15.8}"
      ]
     },
     "execution_count": 64,
     "metadata": {},
     "output_type": "execute_result"
    }
   ],
   "source": [
    "import pyowm\n",
    "owm = pyowm.OWM('801f832e009fb642af6c78c2c31b7043')\n",
    "observation = owm.weather_at_place('Concord,NH')\n",
    "w = observation.get_weather()\n",
    "w.get_temperature('fahrenheit') \n",
    "# {u'speed': 3.1, u'deg': 220}\n",
    "# w.get_humidity"
   ]
  },
  {
   "cell_type": "code",
   "execution_count": 60,
   "metadata": {
    "collapsed": false
   },
   "outputs": [
    {
     "data": {
      "text/plain": [
       "<pyowm.webapi25.weather.Weather - reference time=2017-01-14 15:15:00+00, status=Clear>"
      ]
     },
     "execution_count": 60,
     "metadata": {},
     "output_type": "execute_result"
    }
   ],
   "source": [
    "w"
   ]
  },
  {
   "cell_type": "code",
   "execution_count": null,
   "metadata": {
    "collapsed": true
   },
   "outputs": [],
   "source": []
  }
 ],
 "metadata": {
  "kernelspec": {
   "display_name": "Python 2",
   "language": "python",
   "name": "python2"
  },
  "language_info": {
   "codemirror_mode": {
    "name": "ipython",
    "version": 2
   },
   "file_extension": ".py",
   "mimetype": "text/x-python",
   "name": "python",
   "nbconvert_exporter": "python",
   "pygments_lexer": "ipython2",
   "version": "2.7.12"
  }
 },
 "nbformat": 4,
 "nbformat_minor": 0
}
