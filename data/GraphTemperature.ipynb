{
 "cells": [
  {
   "cell_type": "code",
   "execution_count": 49,
   "metadata": {
    "collapsed": false,
    "scrolled": true
   },
   "outputs": [
    {
     "data": {
      "text/plain": [
       "datetime.datetime(2017, 1, 15, 14, 5, 50)"
      ]
     },
     "execution_count": 49,
     "metadata": {},
     "output_type": "execute_result"
    }
   ],
   "source": [
    "import matplotlib.pyplot as plt\n",
    "import pandas\n",
    "import MySQLdb\n",
    "%matplotlib inline\n",
    "\n",
    "conn = MySQLdb.connect(host=\"localhost\", user=\"root\", passwd=\"root\", db=\"minion\")\n",
    "\n",
    "query = \"\"\" \n",
    "SELECT ts, t FROM report WHERE id = 1 and ts >= now() - INTERVAL 1 DAY limit 10;\n",
    "\"\"\"\n",
    "\n",
    "dictCursor = conn.cursor(MySQLdb.cursors.Cursor)\n",
    "dictCursor.execute(query)\n",
    "data = dictCursor.fetchall()\n",
    "\n",
    "data\n",
    "\n",
    "r = []\n",
    "for row in data:\n",
    "    r.append(row[0])\n",
    "\n",
    "r[0]\n"
   ]
  },
  {
   "cell_type": "code",
   "execution_count": 87,
   "metadata": {
    "collapsed": false,
    "scrolled": true
   },
   "outputs": [
    {
     "data": {
      "image/png": "[encoded data removed]",
      "text/plain": [
       "<matplotlib.figure.Figure at 0x7fc4f7ff1390>"
      ]
     },
     "metadata": {},
     "output_type": "display_data"
    }
   ],
   "source": [
    "import matplotlib.pyplot as plt\n",
    "import pandas\n",
    "import MySQLdb\n",
    "%matplotlib inline\n",
    "\n",
    "conn = MySQLdb.connect(host=\"localhost\", user=\"root\", passwd=\"root\", db=\"minion\")\n",
    "\n",
    "query = \"\"\" \n",
    "SELECT ts, t /* ((lux * -1)+2500)/30 as lux */ FROM report WHERE id = 1 and ts >= now() - INTERVAL 1 HOUR;\n",
    "\"\"\"\n",
    "\n",
    "df = pandas.read_sql(query, conn, index_col=['ts'])\n",
    "fig, ax = plt.subplots()\n",
    "df.plot(ax=ax)\n",
    "fig.show()\n",
    "conn.close()\n"
   ]
  },
  {
   "cell_type": "code",
   "execution_count": 84,
   "metadata": {
    "collapsed": false,
    "scrolled": true
   },
   "outputs": [
    {
     "ename": "AttributeError",
     "evalue": "'module' object has no attribute 'serialize'",
     "output_type": "error",
     "traceback": [
      "\u001b[1;31m---------------------------------------------------------------------------\u001b[0m",
      "\u001b[1;31mAttributeError\u001b[0m                            Traceback (most recent call last)",
      "\u001b[1;32m<ipython-input-84-5b655df041e4>\u001b[0m in \u001b[0;36m<module>\u001b[1;34m()\u001b[0m\n\u001b[0;32m     12\u001b[0m \u001b[1;33m\u001b[0m\u001b[0m\n\u001b[0;32m     13\u001b[0m \u001b[0mdf\u001b[0m \u001b[1;33m=\u001b[0m \u001b[0mpandas\u001b[0m\u001b[1;33m.\u001b[0m\u001b[0mread_sql\u001b[0m\u001b[1;33m(\u001b[0m\u001b[0mquery\u001b[0m\u001b[1;33m,\u001b[0m \u001b[0mconn\u001b[0m\u001b[1;33m,\u001b[0m \u001b[0mindex_col\u001b[0m\u001b[1;33m=\u001b[0m\u001b[1;33m[\u001b[0m\u001b[1;34m'ts'\u001b[0m\u001b[1;33m]\u001b[0m\u001b[1;33m)\u001b[0m\u001b[1;33m\u001b[0m\u001b[0m\n\u001b[1;32m---> 14\u001b[1;33m \u001b[0mchart\u001b[0m \u001b[1;33m=\u001b[0m \u001b[0mpandas_highcharts\u001b[0m\u001b[1;33m.\u001b[0m\u001b[0mserialize\u001b[0m\u001b[1;33m(\u001b[0m\u001b[0mdf\u001b[0m\u001b[1;33m,\u001b[0m \u001b[0mrender_to\u001b[0m\u001b[1;33m=\u001b[0m\u001b[1;34m'my-chart'\u001b[0m\u001b[1;33m,\u001b[0m \u001b[0moutput_type\u001b[0m\u001b[1;33m=\u001b[0m\u001b[1;34m'json'\u001b[0m\u001b[1;33m)\u001b[0m\u001b[1;33m\u001b[0m\u001b[0m\n\u001b[0m\u001b[0;32m     15\u001b[0m \u001b[0mconn\u001b[0m\u001b[1;33m.\u001b[0m\u001b[0mclose\u001b[0m\u001b[1;33m(\u001b[0m\u001b[1;33m)\u001b[0m\u001b[1;33m\u001b[0m\u001b[0m\n",
      "\u001b[1;31mAttributeError\u001b[0m: 'module' object has no attribute 'serialize'"
     ]
    }
   ],
   "source": [
    "import pandas_highcharts\n",
    "import pandas\n",
    "import MySQLdb\n",
    "\n",
    "from pandas_highcharts.core import serialize\n",
    "\n",
    "conn = MySQLdb.connect(host=\"localhost\", user=\"root\", passwd=\"root\", db=\"minion\")\n",
    "\n",
    "query = \"\"\" \n",
    "SELECT ts, t FROM report WHERE id = 1 and ts >= now() - INTERVAL 1 DAY;\n",
    "\"\"\"\n",
    "\n",
    "df = pandas.read_sql(query, conn, index_col=['ts'])\n",
    "chart = pandas_highcharts.serialize(df, render_to='my-chart', output_type='json')\n",
    "conn.close()\n"
   ]
  },
  {
   "cell_type": "code",
   "execution_count": 21,
   "metadata": {
    "collapsed": false
   },
   "outputs": [
    {
     "data": {
      "text/plain": [
       "{'temp': 26.2, 'temp_kf': None, 'temp_max': 28.4, 'temp_min': 21.2}"
      ]
     },
     "execution_count": 21,
     "metadata": {},
     "output_type": "execute_result"
    }
   ],
   "source": [
    "import pyowm\n",
    "owm = pyowm.OWM('801f832e009fb642af6c78c2c31b7043')\n",
    "observation = owm.weather_at_place('Concord,NH')\n",
    "w = observation.get_weather()\n",
    "w.get_temperature('fahrenheit') \n",
    "# {u'speed': 3.1, u'deg': 220}\n",
    "# w.get_humidity"
   ]
  },
  {
   "cell_type": "code",
   "execution_count": 22,
   "metadata": {
    "collapsed": false
   },
   "outputs": [
    {
     "name": "stdout",
     "output_type": "stream",
     "text": [
      "Server running in the folder /home/matt/minions/data at 127.0.0.1:47223\n"
     ]
    },
    {
     "ename": "NameError",
     "evalue": "name 'ohlc' is not defined",
     "output_type": "error",
     "traceback": [
      "\u001b[1;31m---------------------------------------------------------------------------\u001b[0m",
      "\u001b[1;31mNameError\u001b[0m                                 Traceback (most recent call last)",
      "\u001b[1;32m<ipython-input-22-e2bcf49755c7>\u001b[0m in \u001b[0;36m<module>\u001b[1;34m()\u001b[0m\n\u001b[0;32m      2\u001b[0m \u001b[1;32mimport\u001b[0m \u001b[0mjson\u001b[0m\u001b[1;33m\u001b[0m\u001b[0m\n\u001b[0;32m      3\u001b[0m \u001b[1;33m\u001b[0m\u001b[0m\n\u001b[1;32m----> 4\u001b[1;33m \u001b[0mohlc\u001b[0m\u001b[1;33m[\u001b[0m\u001b[1;34m'display'\u001b[0m\u001b[1;33m]\u001b[0m \u001b[1;33m=\u001b[0m \u001b[0mFalse\u001b[0m\u001b[1;33m\u001b[0m\u001b[0m\n\u001b[0m\u001b[0;32m      5\u001b[0m \u001b[1;33m\u001b[0m\u001b[0m\n\u001b[0;32m      6\u001b[0m \u001b[0mconn\u001b[0m \u001b[1;33m=\u001b[0m \u001b[0mMySQLdb\u001b[0m\u001b[1;33m.\u001b[0m\u001b[0mconnect\u001b[0m\u001b[1;33m(\u001b[0m\u001b[0mhost\u001b[0m\u001b[1;33m=\u001b[0m\u001b[1;34m\"localhost\"\u001b[0m\u001b[1;33m,\u001b[0m \u001b[0muser\u001b[0m\u001b[1;33m=\u001b[0m\u001b[1;34m\"root\"\u001b[0m\u001b[1;33m,\u001b[0m \u001b[0mpasswd\u001b[0m\u001b[1;33m=\u001b[0m\u001b[1;34m\"root\"\u001b[0m\u001b[1;33m,\u001b[0m \u001b[0mdb\u001b[0m\u001b[1;33m=\u001b[0m\u001b[1;34m\"minion\"\u001b[0m\u001b[1;33m)\u001b[0m\u001b[1;33m\u001b[0m\u001b[0m\n",
      "\u001b[1;31mNameError\u001b[0m: name 'ohlc' is not defined"
     ]
    }
   ],
   "source": [
    "import charts\n",
    "import json\n",
    "\n",
    "ohlc['display'] = False\n",
    "\n",
    "conn = MySQLdb.connect(host=\"localhost\", user=\"root\", passwd=\"root\", db=\"minion\")\n",
    "\n",
    "query = \"\"\" \n",
    "SELECT ts, t FROM report WHERE id = 1 and ts >= now() - INTERVAL 1 DAY LIMIT 4;\n",
    "\"\"\"\n",
    "\n",
    "#dictCursor = conn.cursor(MySQLdb.cursors.DictCursor)\n",
    "dictCursor = conn.cursor(MySQLdb.cursors.Cursor)\n",
    "\n",
    "dictCursor.execute(query)\n",
    "data = dictCursor.fetchall()\n",
    "l = list(data)\n",
    "l\n",
    "exit()\n",
    "options = dict(height=400, title=dict(text='My first chart!'))\n",
    "\n",
    "charts.plot(l, options, height=500, stock=True, show='inline')\n",
    "\n",
    "conn.close()"
   ]
  },
  {
   "cell_type": "code",
   "execution_count": 26,
   "metadata": {
    "collapsed": false
   },
   "outputs": [],
   "source": [
    "import json\n",
    "raw_json = '{\"id\": 2, \"temp\": 60.8, \"humidity\": 23.0}'\n",
    "result_json = json.loads(raw_json, encoding='utf-8')\n",
    "result_json.get('lux',None)\n"
   ]
  },
  {
   "cell_type": "code",
   "execution_count": 32,
   "metadata": {
    "collapsed": false
   },
   "outputs": [
    {
     "data": {
      "text/plain": [
       "{'id': 2, 'test': 10}"
      ]
     },
     "execution_count": 32,
     "metadata": {},
     "output_type": "execute_result"
    }
   ],
   "source": [
    "m = {'id':2}\n",
    "def foo(n):\n",
    "    n['test'] = 10\n",
    "foo(m)\n",
    "m"
   ]
  },
  {
   "cell_type": "code",
   "execution_count": 33,
   "metadata": {
    "collapsed": false
   },
   "outputs": [
    {
     "data": {
      "text/plain": [
       "{'id': 5, 'test': 10}"
      ]
     },
     "execution_count": 33,
     "metadata": {},
     "output_type": "execute_result"
    }
   ],
   "source": [
    "test = {'id':5}\n",
    "foo(test)\n",
    "test"
   ]
  },
  {
   "cell_type": "code",
   "execution_count": null,
   "metadata": {
    "collapsed": true
   },
   "outputs": [],
   "source": []
  }
 ],
 "metadata": {
  "kernelspec": {
   "display_name": "Python 2",
   "language": "python",
   "name": "python2"
  },
  "language_info": {
   "codemirror_mode": {
    "name": "ipython",
    "version": 2
   },
   "file_extension": ".py",
   "mimetype": "text/x-python",
   "name": "python",
   "nbconvert_exporter": "python",
   "pygments_lexer": "ipython2",
   "version": "2.7.12"
  }
 },
 "nbformat": 4,
 "nbformat_minor": 0
}
